{
 "cells": [
  {
   "cell_type": "markdown",
   "metadata": {
    "colab_type": "text",
    "id": "yUm5Z0NJaejk"
   },
   "source": [
    "## 1.1 Getting Data\n",
    "\n",
    "Let us consider a public database, called “Adult” dataset hosted on the UCI’s Machine Learning Repository (https://archive.ics.uci.edu/ml/datasets/Adult), that contains approximately 32.000 observations about different financial parameters of US population."
   ]
  },
  {
   "cell_type": "markdown",
   "metadata": {
    "colab_type": "text",
    "id": "0ACAI5wMaejl"
   },
   "source": [
    "### 1.2 Data preparation\n",
    "\n",
    "One of the reasons we are using a general-purpose language such as Python rather than a stats language like R is that for many projects the *hard* part is preparing the data, not doing the analysis.\n",
    "\n",
    "The most common steps are:\n",
    "\n",
    "1. **Getting the data**. Data can be directly read from a file or it might be necessary to scrap the web.\n",
    "2. **Parsing the data**.  Of course, this depends on what format it is in: plain text, fixed columns, CSV, XML, HTML, etc.\n",
    "3. **Cleaning the data**.  Survey responses and other data files are almost always incomplete.  Sometimes there are multiple codes for things like, *not asked*, *did not know*, and *declined to answer*. And there are almost always errors. A simple strategy is to remove or ignore incomplete records.\n",
    "4. **Building data structures**. Once you read the data, you usually want to store it in a data structure that lends itself to the analysis you want to do.\n",
    "\n",
    "If the data fits into memory, building a data structure is usually the way to go.   If not, you could build a database, which is an out-of-memory data structure. Most databases provide a mapping from keys to values, so they are like dictionaries.\n",
    "\n",
    "Let us read the dataset:"
   ]
  },
  {
   "cell_type": "code",
   "execution_count": 1,
   "metadata": {},
   "outputs": [],
   "source": [
    "import pandas as pd\n",
    "import numpy as np\n",
    "%matplotlib inline"
   ]
  },
  {
   "cell_type": "code",
   "execution_count": 2,
   "metadata": {},
   "outputs": [
    {
     "data": {
      "text/html": [
       "<div>\n",
       "<style scoped>\n",
       "    .dataframe tbody tr th:only-of-type {\n",
       "        vertical-align: middle;\n",
       "    }\n",
       "\n",
       "    .dataframe tbody tr th {\n",
       "        vertical-align: top;\n",
       "    }\n",
       "\n",
       "    .dataframe thead th {\n",
       "        text-align: right;\n",
       "    }\n",
       "</style>\n",
       "<table border=\"1\" class=\"dataframe\">\n",
       "  <thead>\n",
       "    <tr style=\"text-align: right;\">\n",
       "      <th></th>\n",
       "      <th>age</th>\n",
       "      <th>workclass</th>\n",
       "      <th>fnlwgt</th>\n",
       "      <th>education</th>\n",
       "      <th>educational-num</th>\n",
       "      <th>marital-status</th>\n",
       "      <th>occupation</th>\n",
       "      <th>relationship</th>\n",
       "      <th>race</th>\n",
       "      <th>gender</th>\n",
       "      <th>capital-gain</th>\n",
       "      <th>capital-loss</th>\n",
       "      <th>hours-per-week</th>\n",
       "      <th>native-country</th>\n",
       "      <th>income</th>\n",
       "    </tr>\n",
       "  </thead>\n",
       "  <tbody>\n",
       "    <tr>\n",
       "      <th>0</th>\n",
       "      <td>25</td>\n",
       "      <td>Private</td>\n",
       "      <td>226802</td>\n",
       "      <td>11th</td>\n",
       "      <td>7</td>\n",
       "      <td>Never-married</td>\n",
       "      <td>Machine-op-inspct</td>\n",
       "      <td>Own-child</td>\n",
       "      <td>Black</td>\n",
       "      <td>Male</td>\n",
       "      <td>0</td>\n",
       "      <td>0</td>\n",
       "      <td>40</td>\n",
       "      <td>United-States</td>\n",
       "      <td>&lt;=50K</td>\n",
       "    </tr>\n",
       "    <tr>\n",
       "      <th>1</th>\n",
       "      <td>38</td>\n",
       "      <td>Private</td>\n",
       "      <td>89814</td>\n",
       "      <td>HS-grad</td>\n",
       "      <td>9</td>\n",
       "      <td>Married-civ-spouse</td>\n",
       "      <td>Farming-fishing</td>\n",
       "      <td>Husband</td>\n",
       "      <td>White</td>\n",
       "      <td>Male</td>\n",
       "      <td>0</td>\n",
       "      <td>0</td>\n",
       "      <td>50</td>\n",
       "      <td>United-States</td>\n",
       "      <td>&lt;=50K</td>\n",
       "    </tr>\n",
       "    <tr>\n",
       "      <th>2</th>\n",
       "      <td>28</td>\n",
       "      <td>Local-gov</td>\n",
       "      <td>336951</td>\n",
       "      <td>Assoc-acdm</td>\n",
       "      <td>12</td>\n",
       "      <td>Married-civ-spouse</td>\n",
       "      <td>Protective-serv</td>\n",
       "      <td>Husband</td>\n",
       "      <td>White</td>\n",
       "      <td>Male</td>\n",
       "      <td>0</td>\n",
       "      <td>0</td>\n",
       "      <td>40</td>\n",
       "      <td>United-States</td>\n",
       "      <td>&gt;50K</td>\n",
       "    </tr>\n",
       "    <tr>\n",
       "      <th>3</th>\n",
       "      <td>44</td>\n",
       "      <td>Private</td>\n",
       "      <td>160323</td>\n",
       "      <td>Some-college</td>\n",
       "      <td>10</td>\n",
       "      <td>Married-civ-spouse</td>\n",
       "      <td>Machine-op-inspct</td>\n",
       "      <td>Husband</td>\n",
       "      <td>Black</td>\n",
       "      <td>Male</td>\n",
       "      <td>7688</td>\n",
       "      <td>0</td>\n",
       "      <td>40</td>\n",
       "      <td>United-States</td>\n",
       "      <td>&gt;50K</td>\n",
       "    </tr>\n",
       "    <tr>\n",
       "      <th>4</th>\n",
       "      <td>18</td>\n",
       "      <td>?</td>\n",
       "      <td>103497</td>\n",
       "      <td>Some-college</td>\n",
       "      <td>10</td>\n",
       "      <td>Never-married</td>\n",
       "      <td>?</td>\n",
       "      <td>Own-child</td>\n",
       "      <td>White</td>\n",
       "      <td>Female</td>\n",
       "      <td>0</td>\n",
       "      <td>0</td>\n",
       "      <td>30</td>\n",
       "      <td>United-States</td>\n",
       "      <td>&lt;=50K</td>\n",
       "    </tr>\n",
       "  </tbody>\n",
       "</table>\n",
       "</div>"
      ],
      "text/plain": [
       "   age  workclass  fnlwgt     education  educational-num      marital-status  \\\n",
       "0   25    Private  226802          11th                7       Never-married   \n",
       "1   38    Private   89814       HS-grad                9  Married-civ-spouse   \n",
       "2   28  Local-gov  336951    Assoc-acdm               12  Married-civ-spouse   \n",
       "3   44    Private  160323  Some-college               10  Married-civ-spouse   \n",
       "4   18          ?  103497  Some-college               10       Never-married   \n",
       "\n",
       "          occupation relationship   race  gender  capital-gain  capital-loss  \\\n",
       "0  Machine-op-inspct    Own-child  Black    Male             0             0   \n",
       "1    Farming-fishing      Husband  White    Male             0             0   \n",
       "2    Protective-serv      Husband  White    Male             0             0   \n",
       "3  Machine-op-inspct      Husband  Black    Male          7688             0   \n",
       "4                  ?    Own-child  White  Female             0             0   \n",
       "\n",
       "   hours-per-week native-country income  \n",
       "0              40  United-States  <=50K  \n",
       "1              50  United-States  <=50K  \n",
       "2              40  United-States   >50K  \n",
       "3              40  United-States   >50K  \n",
       "4              30  United-States  <=50K  "
      ]
     },
     "execution_count": 2,
     "metadata": {},
     "output_type": "execute_result"
    }
   ],
   "source": [
    "data= pd.read_csv('adult.csv')\n",
    "#print(data)'\n",
    "data.head()"
   ]
  },
  {
   "cell_type": "markdown",
   "metadata": {
    "colab_type": "text",
    "id": "G5C4Xmxlaej0"
   },
   "source": [
    "### 1.3 Importing data as a pandas DataFrame"
   ]
  },
  {
   "cell_type": "code",
   "execution_count": 3,
   "metadata": {
    "colab": {
     "base_uri": "https://localhost:8080/",
     "height": 350
    },
    "colab_type": "code",
    "executionInfo": {
     "elapsed": 1157,
     "status": "ok",
     "timestamp": 1570623246070,
     "user": {
      "displayName": "Dr. Mehdi Hassan",
      "photoUrl": "",
      "userId": "14874357748619183570"
     },
     "user_tz": -300
    },
    "id": "GXfep6RIaej4",
    "outputId": "76bb8ef7-a95d-440d-e525-0eb1f603b411"
   },
   "outputs": [
    {
     "data": {
      "text/html": [
       "<div>\n",
       "<style scoped>\n",
       "    .dataframe tbody tr th:only-of-type {\n",
       "        vertical-align: middle;\n",
       "    }\n",
       "\n",
       "    .dataframe tbody tr th {\n",
       "        vertical-align: top;\n",
       "    }\n",
       "\n",
       "    .dataframe thead th {\n",
       "        text-align: right;\n",
       "    }\n",
       "</style>\n",
       "<table border=\"1\" class=\"dataframe\">\n",
       "  <thead>\n",
       "    <tr style=\"text-align: right;\">\n",
       "      <th></th>\n",
       "      <th>age</th>\n",
       "      <th>workclass</th>\n",
       "      <th>fnlwgt</th>\n",
       "      <th>education</th>\n",
       "      <th>educational-num</th>\n",
       "      <th>marital-status</th>\n",
       "      <th>occupation</th>\n",
       "      <th>relationship</th>\n",
       "      <th>race</th>\n",
       "      <th>gender</th>\n",
       "      <th>capital-gain</th>\n",
       "      <th>capital-loss</th>\n",
       "      <th>hours-per-week</th>\n",
       "      <th>native-country</th>\n",
       "      <th>income</th>\n",
       "    </tr>\n",
       "  </thead>\n",
       "  <tbody>\n",
       "    <tr>\n",
       "      <th>48837</th>\n",
       "      <td>27</td>\n",
       "      <td>Private</td>\n",
       "      <td>257302</td>\n",
       "      <td>Assoc-acdm</td>\n",
       "      <td>12</td>\n",
       "      <td>Married-civ-spouse</td>\n",
       "      <td>Tech-support</td>\n",
       "      <td>Wife</td>\n",
       "      <td>White</td>\n",
       "      <td>Female</td>\n",
       "      <td>0</td>\n",
       "      <td>0</td>\n",
       "      <td>38</td>\n",
       "      <td>United-States</td>\n",
       "      <td>&lt;=50K</td>\n",
       "    </tr>\n",
       "    <tr>\n",
       "      <th>48838</th>\n",
       "      <td>40</td>\n",
       "      <td>Private</td>\n",
       "      <td>154374</td>\n",
       "      <td>HS-grad</td>\n",
       "      <td>9</td>\n",
       "      <td>Married-civ-spouse</td>\n",
       "      <td>Machine-op-inspct</td>\n",
       "      <td>Husband</td>\n",
       "      <td>White</td>\n",
       "      <td>Male</td>\n",
       "      <td>0</td>\n",
       "      <td>0</td>\n",
       "      <td>40</td>\n",
       "      <td>United-States</td>\n",
       "      <td>&gt;50K</td>\n",
       "    </tr>\n",
       "    <tr>\n",
       "      <th>48839</th>\n",
       "      <td>58</td>\n",
       "      <td>Private</td>\n",
       "      <td>151910</td>\n",
       "      <td>HS-grad</td>\n",
       "      <td>9</td>\n",
       "      <td>Widowed</td>\n",
       "      <td>Adm-clerical</td>\n",
       "      <td>Unmarried</td>\n",
       "      <td>White</td>\n",
       "      <td>Female</td>\n",
       "      <td>0</td>\n",
       "      <td>0</td>\n",
       "      <td>40</td>\n",
       "      <td>United-States</td>\n",
       "      <td>&lt;=50K</td>\n",
       "    </tr>\n",
       "    <tr>\n",
       "      <th>48840</th>\n",
       "      <td>22</td>\n",
       "      <td>Private</td>\n",
       "      <td>201490</td>\n",
       "      <td>HS-grad</td>\n",
       "      <td>9</td>\n",
       "      <td>Never-married</td>\n",
       "      <td>Adm-clerical</td>\n",
       "      <td>Own-child</td>\n",
       "      <td>White</td>\n",
       "      <td>Male</td>\n",
       "      <td>0</td>\n",
       "      <td>0</td>\n",
       "      <td>20</td>\n",
       "      <td>United-States</td>\n",
       "      <td>&lt;=50K</td>\n",
       "    </tr>\n",
       "    <tr>\n",
       "      <th>48841</th>\n",
       "      <td>52</td>\n",
       "      <td>Self-emp-inc</td>\n",
       "      <td>287927</td>\n",
       "      <td>HS-grad</td>\n",
       "      <td>9</td>\n",
       "      <td>Married-civ-spouse</td>\n",
       "      <td>Exec-managerial</td>\n",
       "      <td>Wife</td>\n",
       "      <td>White</td>\n",
       "      <td>Female</td>\n",
       "      <td>15024</td>\n",
       "      <td>0</td>\n",
       "      <td>40</td>\n",
       "      <td>United-States</td>\n",
       "      <td>&gt;50K</td>\n",
       "    </tr>\n",
       "  </tbody>\n",
       "</table>\n",
       "</div>"
      ],
      "text/plain": [
       "       age     workclass  fnlwgt   education  educational-num  \\\n",
       "48837   27       Private  257302  Assoc-acdm               12   \n",
       "48838   40       Private  154374     HS-grad                9   \n",
       "48839   58       Private  151910     HS-grad                9   \n",
       "48840   22       Private  201490     HS-grad                9   \n",
       "48841   52  Self-emp-inc  287927     HS-grad                9   \n",
       "\n",
       "           marital-status         occupation relationship   race  gender  \\\n",
       "48837  Married-civ-spouse       Tech-support         Wife  White  Female   \n",
       "48838  Married-civ-spouse  Machine-op-inspct      Husband  White    Male   \n",
       "48839             Widowed       Adm-clerical    Unmarried  White  Female   \n",
       "48840       Never-married       Adm-clerical    Own-child  White    Male   \n",
       "48841  Married-civ-spouse    Exec-managerial         Wife  White  Female   \n",
       "\n",
       "       capital-gain  capital-loss  hours-per-week native-country income  \n",
       "48837             0             0              38  United-States  <=50K  \n",
       "48838             0             0              40  United-States   >50K  \n",
       "48839             0             0              40  United-States  <=50K  \n",
       "48840             0             0              20  United-States  <=50K  \n",
       "48841         15024             0              40  United-States   >50K  "
      ]
     },
     "execution_count": 3,
     "metadata": {},
     "output_type": "execute_result"
    }
   ],
   "source": [
    "data.tail()"
   ]
  },
  {
   "cell_type": "code",
   "execution_count": 4,
   "metadata": {
    "colab": {
     "base_uri": "https://localhost:8080/",
     "height": 34
    },
    "colab_type": "code",
    "executionInfo": {
     "elapsed": 1623,
     "status": "ok",
     "timestamp": 1570623249312,
     "user": {
      "displayName": "Dr. Mehdi Hassan",
      "photoUrl": "",
      "userId": "14874357748619183570"
     },
     "user_tz": -300
    },
    "id": "W61HQM9Zaej7",
    "outputId": "90fdcf47-2b39-4dc7-f802-0e6ffdf9bcb8"
   },
   "outputs": [
    {
     "data": {
      "text/plain": [
       "(48842, 15)"
      ]
     },
     "execution_count": 4,
     "metadata": {},
     "output_type": "execute_result"
    }
   ],
   "source": [
    "data.shape"
   ]
  },
  {
   "cell_type": "markdown",
   "metadata": {
    "colab_type": "text",
    "id": "45xZWdRZaej_"
   },
   "source": [
    "Let's count the number of items per country:\n"
   ]
  },
  {
   "cell_type": "code",
   "execution_count": 5,
   "metadata": {
    "colab": {
     "base_uri": "https://localhost:8080/",
     "height": 756
    },
    "colab_type": "code",
    "executionInfo": {
     "elapsed": 1147,
     "status": "ok",
     "timestamp": 1570623253035,
     "user": {
      "displayName": "Dr. Mehdi Hassan",
      "photoUrl": "",
      "userId": "14874357748619183570"
     },
     "user_tz": -300
    },
    "id": "sO_fOK81aekA",
    "outputId": "8bf1eb87-de07-4293-8667-9b62325cdbed"
   },
   "outputs": [
    {
     "name": "stdout",
     "output_type": "stream",
     "text": [
      "native-country\n",
      "?                               857\n",
      "Cambodia                         28\n",
      "Canada                          182\n",
      "China                           122\n",
      "Columbia                         85\n",
      "Cuba                            138\n",
      "Dominican-Republic              103\n",
      "Ecuador                          45\n",
      "El-Salvador                     155\n",
      "England                         127\n",
      "France                           38\n",
      "Germany                         206\n",
      "Greece                           49\n",
      "Guatemala                        88\n",
      "Haiti                            75\n",
      "Holand-Netherlands                1\n",
      "Honduras                         20\n",
      "Hong                             30\n",
      "Hungary                          19\n",
      "India                           151\n",
      "Iran                             59\n",
      "Ireland                          37\n",
      "Italy                           105\n",
      "Jamaica                         106\n",
      "Japan                            92\n",
      "Laos                             23\n",
      "Mexico                          951\n",
      "Nicaragua                        49\n",
      "Outlying-US(Guam-USVI-etc)       23\n",
      "Peru                             46\n",
      "Philippines                     295\n",
      "Poland                           87\n",
      "Portugal                         67\n",
      "Puerto-Rico                     184\n",
      "Scotland                         21\n",
      "South                           115\n",
      "Taiwan                           65\n",
      "Thailand                         30\n",
      "Trinadad&Tobago                  27\n",
      "United-States                 43832\n",
      "Vietnam                          86\n",
      "Yugoslavia                       23\n",
      "dtype: int64\n"
     ]
    }
   ],
   "source": [
    "counts = data.groupby('native-country').size()\n",
    "\n",
    "print(counts)\n",
    "# also: \n",
    "#data.outcome.value_counts()"
   ]
  },
  {
   "cell_type": "code",
   "execution_count": 6,
   "metadata": {
    "colab": {},
    "colab_type": "code",
    "id": "XLWid8tMaekE",
    "scrolled": false
   },
   "outputs": [
    {
     "name": "stdout",
     "output_type": "stream",
     "text": [
      "age\n",
      "17     595\n",
      "18     862\n",
      "19    1053\n",
      "20    1113\n",
      "21    1096\n",
      "      ... \n",
      "86       1\n",
      "87       3\n",
      "88       6\n",
      "89       2\n",
      "90      55\n",
      "Length: 74, dtype: int64\n"
     ]
    }
   ],
   "source": [
    "counts = data.groupby('age').size() # grouping by age\n",
    "print(counts) "
   ]
  },
  {
   "cell_type": "code",
   "execution_count": 7,
   "metadata": {
    "colab": {
     "base_uri": "https://localhost:8080/",
     "height": 34
    },
    "colab_type": "code",
    "executionInfo": {
     "elapsed": 1140,
     "status": "ok",
     "timestamp": 1570623266578,
     "user": {
      "displayName": "Dr. Mehdi Hassan",
      "photoUrl": "",
      "userId": "14874357748619183570"
     },
     "user_tz": -300
    },
    "id": "RFzG55TlaekK",
    "outputId": "805a77a4-b193-4fce-f1a8-0548e74e46b1"
   },
   "outputs": [
    {
     "data": {
      "text/plain": [
       "(32650, 15)"
      ]
     },
     "execution_count": 7,
     "metadata": {},
     "output_type": "execute_result"
    }
   ],
   "source": [
    "ml = data[(data.gender == 'Male')] # grouping by sex\n",
    "ml.shape"
   ]
  },
  {
   "cell_type": "code",
   "execution_count": 8,
   "metadata": {
    "colab": {
     "base_uri": "https://localhost:8080/",
     "height": 34
    },
    "colab_type": "code",
    "executionInfo": {
     "elapsed": 1241,
     "status": "ok",
     "timestamp": 1570623274616,
     "user": {
      "displayName": "Dr. Mehdi Hassan",
      "photoUrl": "",
      "userId": "14874357748619183570"
     },
     "user_tz": -300
    },
    "id": "J_Q2BMkJaekO",
    "outputId": "c93285b1-0d58-41e6-d721-b71c1943fda2",
    "scrolled": true
   },
   "outputs": [
    {
     "data": {
      "text/html": [
       "<div>\n",
       "<style scoped>\n",
       "    .dataframe tbody tr th:only-of-type {\n",
       "        vertical-align: middle;\n",
       "    }\n",
       "\n",
       "    .dataframe tbody tr th {\n",
       "        vertical-align: top;\n",
       "    }\n",
       "\n",
       "    .dataframe thead th {\n",
       "        text-align: right;\n",
       "    }\n",
       "</style>\n",
       "<table border=\"1\" class=\"dataframe\">\n",
       "  <thead>\n",
       "    <tr style=\"text-align: right;\">\n",
       "      <th></th>\n",
       "      <th>age</th>\n",
       "      <th>workclass</th>\n",
       "      <th>fnlwgt</th>\n",
       "      <th>education</th>\n",
       "      <th>educational-num</th>\n",
       "      <th>marital-status</th>\n",
       "      <th>occupation</th>\n",
       "      <th>relationship</th>\n",
       "      <th>race</th>\n",
       "      <th>gender</th>\n",
       "      <th>capital-gain</th>\n",
       "      <th>capital-loss</th>\n",
       "      <th>hours-per-week</th>\n",
       "      <th>native-country</th>\n",
       "      <th>income</th>\n",
       "    </tr>\n",
       "  </thead>\n",
       "  <tbody>\n",
       "    <tr>\n",
       "      <th>2</th>\n",
       "      <td>28</td>\n",
       "      <td>Local-gov</td>\n",
       "      <td>336951</td>\n",
       "      <td>Assoc-acdm</td>\n",
       "      <td>12</td>\n",
       "      <td>Married-civ-spouse</td>\n",
       "      <td>Protective-serv</td>\n",
       "      <td>Husband</td>\n",
       "      <td>White</td>\n",
       "      <td>Male</td>\n",
       "      <td>0</td>\n",
       "      <td>0</td>\n",
       "      <td>40</td>\n",
       "      <td>United-States</td>\n",
       "      <td>&gt;50K</td>\n",
       "    </tr>\n",
       "    <tr>\n",
       "      <th>3</th>\n",
       "      <td>44</td>\n",
       "      <td>Private</td>\n",
       "      <td>160323</td>\n",
       "      <td>Some-college</td>\n",
       "      <td>10</td>\n",
       "      <td>Married-civ-spouse</td>\n",
       "      <td>Machine-op-inspct</td>\n",
       "      <td>Husband</td>\n",
       "      <td>Black</td>\n",
       "      <td>Male</td>\n",
       "      <td>7688</td>\n",
       "      <td>0</td>\n",
       "      <td>40</td>\n",
       "      <td>United-States</td>\n",
       "      <td>&gt;50K</td>\n",
       "    </tr>\n",
       "    <tr>\n",
       "      <th>7</th>\n",
       "      <td>63</td>\n",
       "      <td>Self-emp-not-inc</td>\n",
       "      <td>104626</td>\n",
       "      <td>Prof-school</td>\n",
       "      <td>15</td>\n",
       "      <td>Married-civ-spouse</td>\n",
       "      <td>Prof-specialty</td>\n",
       "      <td>Husband</td>\n",
       "      <td>White</td>\n",
       "      <td>Male</td>\n",
       "      <td>3103</td>\n",
       "      <td>0</td>\n",
       "      <td>32</td>\n",
       "      <td>United-States</td>\n",
       "      <td>&gt;50K</td>\n",
       "    </tr>\n",
       "    <tr>\n",
       "      <th>10</th>\n",
       "      <td>65</td>\n",
       "      <td>Private</td>\n",
       "      <td>184454</td>\n",
       "      <td>HS-grad</td>\n",
       "      <td>9</td>\n",
       "      <td>Married-civ-spouse</td>\n",
       "      <td>Machine-op-inspct</td>\n",
       "      <td>Husband</td>\n",
       "      <td>White</td>\n",
       "      <td>Male</td>\n",
       "      <td>6418</td>\n",
       "      <td>0</td>\n",
       "      <td>40</td>\n",
       "      <td>United-States</td>\n",
       "      <td>&gt;50K</td>\n",
       "    </tr>\n",
       "    <tr>\n",
       "      <th>14</th>\n",
       "      <td>48</td>\n",
       "      <td>Private</td>\n",
       "      <td>279724</td>\n",
       "      <td>HS-grad</td>\n",
       "      <td>9</td>\n",
       "      <td>Married-civ-spouse</td>\n",
       "      <td>Machine-op-inspct</td>\n",
       "      <td>Husband</td>\n",
       "      <td>White</td>\n",
       "      <td>Male</td>\n",
       "      <td>3103</td>\n",
       "      <td>0</td>\n",
       "      <td>48</td>\n",
       "      <td>United-States</td>\n",
       "      <td>&gt;50K</td>\n",
       "    </tr>\n",
       "  </tbody>\n",
       "</table>\n",
       "</div>"
      ],
      "text/plain": [
       "    age         workclass  fnlwgt     education  educational-num  \\\n",
       "2    28         Local-gov  336951    Assoc-acdm               12   \n",
       "3    44           Private  160323  Some-college               10   \n",
       "7    63  Self-emp-not-inc  104626   Prof-school               15   \n",
       "10   65           Private  184454       HS-grad                9   \n",
       "14   48           Private  279724       HS-grad                9   \n",
       "\n",
       "        marital-status         occupation relationship   race gender  \\\n",
       "2   Married-civ-spouse    Protective-serv      Husband  White   Male   \n",
       "3   Married-civ-spouse  Machine-op-inspct      Husband  Black   Male   \n",
       "7   Married-civ-spouse     Prof-specialty      Husband  White   Male   \n",
       "10  Married-civ-spouse  Machine-op-inspct      Husband  White   Male   \n",
       "14  Married-civ-spouse  Machine-op-inspct      Husband  White   Male   \n",
       "\n",
       "    capital-gain  capital-loss  hours-per-week native-country income  \n",
       "2              0             0              40  United-States   >50K  \n",
       "3           7688             0              40  United-States   >50K  \n",
       "7           3103             0              32  United-States   >50K  \n",
       "10          6418             0              40  United-States   >50K  \n",
       "14          3103             0              48  United-States   >50K  "
      ]
     },
     "execution_count": 8,
     "metadata": {},
     "output_type": "execute_result"
    }
   ],
   "source": [
    "ml1 = data[(data.gender == 'Male')&(data.income=='>50K')]\n",
    "ml1.head()\n",
    "#ml1.shape"
   ]
  },
  {
   "cell_type": "markdown",
   "metadata": {
    "colab_type": "text",
    "id": "RPJQjZG4aekS"
   },
   "source": [
    "Let's separate male from female according to the income. "
   ]
  },
  {
   "cell_type": "code",
   "execution_count": 9,
   "metadata": {
    "colab": {
     "base_uri": "https://localhost:8080/",
     "height": 34
    },
    "colab_type": "code",
    "executionInfo": {
     "elapsed": 1273,
     "status": "ok",
     "timestamp": 1570623277455,
     "user": {
      "displayName": "Dr. Mehdi Hassan",
      "photoUrl": "",
      "userId": "14874357748619183570"
     },
     "user_tz": -300
    },
    "id": "FxpVHK-caekT",
    "outputId": "df0b7b0d-3dd4-44bb-d3a3-09d798ae1439"
   },
   "outputs": [
    {
     "data": {
      "text/plain": [
       "(16192, 15)"
      ]
     },
     "execution_count": 9,
     "metadata": {},
     "output_type": "execute_result"
    }
   ],
   "source": [
    "fm =data[(data.gender == 'Female')]\n",
    "fm.shape"
   ]
  },
  {
   "cell_type": "code",
   "execution_count": 10,
   "metadata": {
    "colab": {
     "base_uri": "https://localhost:8080/",
     "height": 34
    },
    "colab_type": "code",
    "executionInfo": {
     "elapsed": 839,
     "status": "ok",
     "timestamp": 1570623278782,
     "user": {
      "displayName": "Dr. Mehdi Hassan",
      "photoUrl": "",
      "userId": "14874357748619183570"
     },
     "user_tz": -300
    },
    "id": "SVuFtI3PaekW",
    "outputId": "fd335211-8d34-4cfb-8ef1-51dd9569f956"
   },
   "outputs": [
    {
     "data": {
      "text/plain": [
       "(1769, 15)"
      ]
     },
     "execution_count": 10,
     "metadata": {},
     "output_type": "execute_result"
    }
   ],
   "source": [
    "fm1 =data[(data.gender == 'Female')&(data.income=='>50K')]\n",
    "fm1.shape"
   ]
  },
  {
   "cell_type": "code",
   "execution_count": 11,
   "metadata": {
    "colab": {
     "base_uri": "https://localhost:8080/",
     "height": 67
    },
    "colab_type": "code",
    "executionInfo": {
     "elapsed": 1161,
     "status": "ok",
     "timestamp": 1570623319575,
     "user": {
      "displayName": "Dr. Mehdi Hassan",
      "photoUrl": "",
      "userId": "14874357748619183570"
     },
     "user_tz": -300
    },
    "id": "sO-eVUCQaekY",
    "outputId": "7cfdc312-d60b-442c-8765-72c5f728fe6e"
   },
   "outputs": [
    {
     "name": "stdout",
     "output_type": "stream",
     "text": [
      "The rate of people with high income is:  23 %.\n",
      "The rate of men with high income is:  30 %.\n",
      "The rate of women with high income is:  10 %.\n"
     ]
    }
   ],
   "source": [
    "df1=data[(data.income=='>50K')]\n",
    "\n",
    "print('The rate of people with high income is: ', int(len(df1)/float(len(data))*100), '%.')\n",
    "print('The rate of men with high income is: ', int(len(ml1)/float(len(ml))*100), '%.')\n",
    "print('The rate of women with high income is: ', int(len(fm1)/float(len(fm))*100), '%.')"
   ]
  },
  {
   "cell_type": "markdown",
   "metadata": {
    "colab_type": "text",
    "id": "_A_z3HyJaekc"
   },
   "source": [
    "### 1.4 Data Cleaning\n",
    "\n",
    "The most common steps are:\n",
    "\n",
    "+ **Sample the data**. If the amount of raw data is huge, processing all of them may require an extensive amount of processing power which may not be practical.  In this case, it is quite common to sample the input data to reduce the size of data that need to be processed.\n",
    "\n",
    "+ **Impute missing data**. It is quite common that some of the input records are incomplete in the sense that certain fields are missing or have input error.  In a typical tabular data format, we need to validate each record contains the same number of fields and each field contains the data type we expect. In case the record has some fields missing, we have the following choices: \n",
    "<small>\n",
    "* (a) Discard the whole record if it is incomplete; \n",
    "* (b) Infer the missing value based on the data from other records.  A common approach is to fill the missing data with the average, or the median.\n",
    "<small>"
   ]
  },
  {
   "cell_type": "code",
   "execution_count": 12,
   "metadata": {},
   "outputs": [
    {
     "name": "stdout",
     "output_type": "stream",
     "text": [
      "age: 0\n",
      "workclass: 2799\n",
      "fnlwgt: 0\n",
      "education: 0\n",
      "educational-num: 0\n",
      "marital-status: 0\n",
      "occupation: 2809\n",
      "relationship: 0\n",
      "race: 0\n",
      "gender: 0\n",
      "capital-gain: 0\n",
      "capital-loss: 0\n",
      "hours-per-week: 0\n",
      "native-country: 857\n",
      "income: 0\n"
     ]
    }
   ],
   "source": [
    "# check total nan values in the dataset\n",
    "\n",
    "for column in data.columns:\n",
    "    print(column + \":\", sum(data[column] == \"?\"))"
   ]
  },
  {
   "cell_type": "code",
   "execution_count": 13,
   "metadata": {},
   "outputs": [
    {
     "data": {
      "text/html": [
       "<div>\n",
       "<style scoped>\n",
       "    .dataframe tbody tr th:only-of-type {\n",
       "        vertical-align: middle;\n",
       "    }\n",
       "\n",
       "    .dataframe tbody tr th {\n",
       "        vertical-align: top;\n",
       "    }\n",
       "\n",
       "    .dataframe thead th {\n",
       "        text-align: right;\n",
       "    }\n",
       "</style>\n",
       "<table border=\"1\" class=\"dataframe\">\n",
       "  <thead>\n",
       "    <tr style=\"text-align: right;\">\n",
       "      <th></th>\n",
       "      <th>age</th>\n",
       "      <th>workclass</th>\n",
       "      <th>fnlwgt</th>\n",
       "      <th>education</th>\n",
       "      <th>educational-num</th>\n",
       "      <th>marital-status</th>\n",
       "      <th>occupation</th>\n",
       "      <th>relationship</th>\n",
       "      <th>race</th>\n",
       "      <th>gender</th>\n",
       "      <th>capital-gain</th>\n",
       "      <th>capital-loss</th>\n",
       "      <th>hours-per-week</th>\n",
       "      <th>native-country</th>\n",
       "      <th>income</th>\n",
       "    </tr>\n",
       "  </thead>\n",
       "  <tbody>\n",
       "    <tr>\n",
       "      <th>42150</th>\n",
       "      <td>35</td>\n",
       "      <td>Private</td>\n",
       "      <td>178948</td>\n",
       "      <td>Masters</td>\n",
       "      <td>14</td>\n",
       "      <td>Never-married</td>\n",
       "      <td>Prof-specialty</td>\n",
       "      <td>Unmarried</td>\n",
       "      <td>White</td>\n",
       "      <td>Female</td>\n",
       "      <td>0</td>\n",
       "      <td>0</td>\n",
       "      <td>32</td>\n",
       "      <td>United-States</td>\n",
       "      <td>&lt;=50K</td>\n",
       "    </tr>\n",
       "    <tr>\n",
       "      <th>16207</th>\n",
       "      <td>18</td>\n",
       "      <td>Private</td>\n",
       "      <td>78181</td>\n",
       "      <td>Some-college</td>\n",
       "      <td>10</td>\n",
       "      <td>Never-married</td>\n",
       "      <td>Other-service</td>\n",
       "      <td>Other-relative</td>\n",
       "      <td>White</td>\n",
       "      <td>Female</td>\n",
       "      <td>0</td>\n",
       "      <td>0</td>\n",
       "      <td>40</td>\n",
       "      <td>United-States</td>\n",
       "      <td>&lt;=50K</td>\n",
       "    </tr>\n",
       "    <tr>\n",
       "      <th>34758</th>\n",
       "      <td>30</td>\n",
       "      <td>Private</td>\n",
       "      <td>109282</td>\n",
       "      <td>Some-college</td>\n",
       "      <td>10</td>\n",
       "      <td>Never-married</td>\n",
       "      <td>Sales</td>\n",
       "      <td>Own-child</td>\n",
       "      <td>White</td>\n",
       "      <td>Male</td>\n",
       "      <td>0</td>\n",
       "      <td>0</td>\n",
       "      <td>20</td>\n",
       "      <td>United-States</td>\n",
       "      <td>&lt;=50K</td>\n",
       "    </tr>\n",
       "    <tr>\n",
       "      <th>16442</th>\n",
       "      <td>25</td>\n",
       "      <td>Private</td>\n",
       "      <td>252752</td>\n",
       "      <td>HS-grad</td>\n",
       "      <td>9</td>\n",
       "      <td>Never-married</td>\n",
       "      <td>Other-service</td>\n",
       "      <td>Unmarried</td>\n",
       "      <td>White</td>\n",
       "      <td>Female</td>\n",
       "      <td>0</td>\n",
       "      <td>0</td>\n",
       "      <td>40</td>\n",
       "      <td>United-States</td>\n",
       "      <td>&lt;=50K</td>\n",
       "    </tr>\n",
       "    <tr>\n",
       "      <th>2481</th>\n",
       "      <td>21</td>\n",
       "      <td>Self-emp-not-inc</td>\n",
       "      <td>328906</td>\n",
       "      <td>HS-grad</td>\n",
       "      <td>9</td>\n",
       "      <td>Never-married</td>\n",
       "      <td>Craft-repair</td>\n",
       "      <td>Not-in-family</td>\n",
       "      <td>White</td>\n",
       "      <td>Male</td>\n",
       "      <td>4865</td>\n",
       "      <td>0</td>\n",
       "      <td>35</td>\n",
       "      <td>United-States</td>\n",
       "      <td>&lt;=50K</td>\n",
       "    </tr>\n",
       "    <tr>\n",
       "      <th>...</th>\n",
       "      <td>...</td>\n",
       "      <td>...</td>\n",
       "      <td>...</td>\n",
       "      <td>...</td>\n",
       "      <td>...</td>\n",
       "      <td>...</td>\n",
       "      <td>...</td>\n",
       "      <td>...</td>\n",
       "      <td>...</td>\n",
       "      <td>...</td>\n",
       "      <td>...</td>\n",
       "      <td>...</td>\n",
       "      <td>...</td>\n",
       "      <td>...</td>\n",
       "      <td>...</td>\n",
       "    </tr>\n",
       "    <tr>\n",
       "      <th>22997</th>\n",
       "      <td>58</td>\n",
       "      <td>Self-emp-inc</td>\n",
       "      <td>154537</td>\n",
       "      <td>HS-grad</td>\n",
       "      <td>9</td>\n",
       "      <td>Married-civ-spouse</td>\n",
       "      <td>Exec-managerial</td>\n",
       "      <td>Wife</td>\n",
       "      <td>White</td>\n",
       "      <td>Female</td>\n",
       "      <td>0</td>\n",
       "      <td>0</td>\n",
       "      <td>20</td>\n",
       "      <td>United-States</td>\n",
       "      <td>&gt;50K</td>\n",
       "    </tr>\n",
       "    <tr>\n",
       "      <th>27253</th>\n",
       "      <td>37</td>\n",
       "      <td>Private</td>\n",
       "      <td>127961</td>\n",
       "      <td>HS-grad</td>\n",
       "      <td>9</td>\n",
       "      <td>Never-married</td>\n",
       "      <td>Machine-op-inspct</td>\n",
       "      <td>Not-in-family</td>\n",
       "      <td>White</td>\n",
       "      <td>Male</td>\n",
       "      <td>0</td>\n",
       "      <td>0</td>\n",
       "      <td>40</td>\n",
       "      <td>United-States</td>\n",
       "      <td>&lt;=50K</td>\n",
       "    </tr>\n",
       "    <tr>\n",
       "      <th>22173</th>\n",
       "      <td>21</td>\n",
       "      <td>Private</td>\n",
       "      <td>192572</td>\n",
       "      <td>HS-grad</td>\n",
       "      <td>9</td>\n",
       "      <td>Never-married</td>\n",
       "      <td>Adm-clerical</td>\n",
       "      <td>Own-child</td>\n",
       "      <td>White</td>\n",
       "      <td>Female</td>\n",
       "      <td>0</td>\n",
       "      <td>0</td>\n",
       "      <td>45</td>\n",
       "      <td>United-States</td>\n",
       "      <td>&lt;=50K</td>\n",
       "    </tr>\n",
       "    <tr>\n",
       "      <th>9253</th>\n",
       "      <td>45</td>\n",
       "      <td>Private</td>\n",
       "      <td>382242</td>\n",
       "      <td>Bachelors</td>\n",
       "      <td>13</td>\n",
       "      <td>Never-married</td>\n",
       "      <td>Adm-clerical</td>\n",
       "      <td>Unmarried</td>\n",
       "      <td>White</td>\n",
       "      <td>Female</td>\n",
       "      <td>0</td>\n",
       "      <td>0</td>\n",
       "      <td>30</td>\n",
       "      <td>NaN</td>\n",
       "      <td>&lt;=50K</td>\n",
       "    </tr>\n",
       "    <tr>\n",
       "      <th>3677</th>\n",
       "      <td>24</td>\n",
       "      <td>Private</td>\n",
       "      <td>307133</td>\n",
       "      <td>Some-college</td>\n",
       "      <td>10</td>\n",
       "      <td>Married-civ-spouse</td>\n",
       "      <td>Transport-moving</td>\n",
       "      <td>Husband</td>\n",
       "      <td>White</td>\n",
       "      <td>Male</td>\n",
       "      <td>0</td>\n",
       "      <td>0</td>\n",
       "      <td>40</td>\n",
       "      <td>NaN</td>\n",
       "      <td>&lt;=50K</td>\n",
       "    </tr>\n",
       "  </tbody>\n",
       "</table>\n",
       "<p>100 rows × 15 columns</p>\n",
       "</div>"
      ],
      "text/plain": [
       "       age         workclass  fnlwgt     education  educational-num  \\\n",
       "42150   35           Private  178948       Masters               14   \n",
       "16207   18           Private   78181  Some-college               10   \n",
       "34758   30           Private  109282  Some-college               10   \n",
       "16442   25           Private  252752       HS-grad                9   \n",
       "2481    21  Self-emp-not-inc  328906       HS-grad                9   \n",
       "...    ...               ...     ...           ...              ...   \n",
       "22997   58      Self-emp-inc  154537       HS-grad                9   \n",
       "27253   37           Private  127961       HS-grad                9   \n",
       "22173   21           Private  192572       HS-grad                9   \n",
       "9253    45           Private  382242     Bachelors               13   \n",
       "3677    24           Private  307133  Some-college               10   \n",
       "\n",
       "           marital-status         occupation    relationship   race  gender  \\\n",
       "42150       Never-married     Prof-specialty       Unmarried  White  Female   \n",
       "16207       Never-married      Other-service  Other-relative  White  Female   \n",
       "34758       Never-married              Sales       Own-child  White    Male   \n",
       "16442       Never-married      Other-service       Unmarried  White  Female   \n",
       "2481        Never-married       Craft-repair   Not-in-family  White    Male   \n",
       "...                   ...                ...             ...    ...     ...   \n",
       "22997  Married-civ-spouse    Exec-managerial            Wife  White  Female   \n",
       "27253       Never-married  Machine-op-inspct   Not-in-family  White    Male   \n",
       "22173       Never-married       Adm-clerical       Own-child  White  Female   \n",
       "9253        Never-married       Adm-clerical       Unmarried  White  Female   \n",
       "3677   Married-civ-spouse   Transport-moving         Husband  White    Male   \n",
       "\n",
       "       capital-gain  capital-loss  hours-per-week native-country income  \n",
       "42150             0             0              32  United-States  <=50K  \n",
       "16207             0             0              40  United-States  <=50K  \n",
       "34758             0             0              20  United-States  <=50K  \n",
       "16442             0             0              40  United-States  <=50K  \n",
       "2481           4865             0              35  United-States  <=50K  \n",
       "...             ...           ...             ...            ...    ...  \n",
       "22997             0             0              20  United-States   >50K  \n",
       "27253             0             0              40  United-States  <=50K  \n",
       "22173             0             0              45  United-States  <=50K  \n",
       "9253              0             0              30            NaN  <=50K  \n",
       "3677              0             0              40            NaN  <=50K  \n",
       "\n",
       "[100 rows x 15 columns]"
      ]
     },
     "execution_count": 13,
     "metadata": {},
     "output_type": "execute_result"
    }
   ],
   "source": [
    "import numpy as np\n",
    "import pandas as pd\n",
    "\n",
    "# Sample the data into n equal parts. After sampling, replace \"?\" with NaN\n",
    "data = data.sample(frac=0.5)\n",
    "data = data.replace('?', np.nan)\n",
    "\n",
    "# Replace NaN with mean for numerical columns where \"?\" was replaced\n",
    "for column in data.columns:\n",
    "    if data[column].dtype != 'object':  # Check if column is numerical\n",
    "        data[column] = pd.to_numeric(data[column])  # Convert to numeric\n",
    "        mean_value = data[column].mean()\n",
    "        data[column] = data[column].fillna(mean_value)\n",
    "\n",
    "data.head(100)\n"
   ]
  },
  {
   "cell_type": "code",
   "execution_count": 14,
   "metadata": {},
   "outputs": [
    {
     "name": "stdout",
     "output_type": "stream",
     "text": [
      "age: 0\n",
      "workclass: 0\n",
      "fnlwgt: 0\n",
      "education: 0\n",
      "educational-num: 0\n",
      "marital-status: 0\n",
      "occupation: 0\n",
      "relationship: 0\n",
      "race: 0\n",
      "gender: 0\n",
      "capital-gain: 0\n",
      "capital-loss: 0\n",
      "hours-per-week: 0\n",
      "native-country: 0\n",
      "income: 0\n"
     ]
    }
   ],
   "source": [
    "# count total \"?\" in each column and display each columns total nulls, use for loops and if else\n",
    "\n",
    "for column in data.columns:\n",
    "    print(column + \":\", sum(data[column] == \"?\"))\n"
   ]
  },
  {
   "cell_type": "code",
   "execution_count": 339,
   "metadata": {},
   "outputs": [],
   "source": [
    "\n",
    "# replace \"?\" in any categorical column with median, use for loop\n",
    "\n",
    "# for column in data.columns:\n",
    "#     if data[column].dtype == 'object':\n",
    "#         data[column] = data[column].replace('?', data[column].mode()[0])\n",
    "\n",
    "# # check if there are any \"?\" left in the dataset\n",
    "\n",
    "# for column in data.columns:\n",
    "#     print(column + \":\", sum(data[column] == \"?\"))"
   ]
  },
  {
   "cell_type": "markdown",
   "metadata": {
    "colab_type": "text",
    "id": "dcYB5BE1aekd"
   },
   "source": [
    "+ **Normalize numeric value**. Normalize data is about transforming numeric data into a uniform range."
   ]
  },
  {
   "cell_type": "code",
   "execution_count": 19,
   "metadata": {},
   "outputs": [
    {
     "name": "stdout",
     "output_type": "stream",
     "text": [
      "            age    fnlwgt  educational-num  capital-gain  capital-loss  \\\n",
      "42150  0.246575  0.113190         0.866667       0.00000           0.0   \n",
      "16207  0.013699  0.044754         0.600000       0.00000           0.0   \n",
      "34758  0.178082  0.065876         0.600000       0.00000           0.0   \n",
      "16442  0.109589  0.163314         0.533333       0.00000           0.0   \n",
      "2481   0.054795  0.215034         0.533333       0.04865           0.0   \n",
      "\n",
      "       hours-per-week  \n",
      "42150        0.316327  \n",
      "16207        0.397959  \n",
      "34758        0.193878  \n",
      "16442        0.397959  \n",
      "2481         0.346939  \n"
     ]
    }
   ],
   "source": [
    "numeric_columns = data.select_dtypes(include=['int', 'float']).columns\n",
    "data[numeric_columns] = data[numeric_columns].apply(pd.to_numeric)\n",
    "\n",
    "# Min-Max scaling\n",
    "data_normalized = (data[numeric_columns] - data[numeric_columns].min()) / (data[numeric_columns].max() - data[numeric_columns].min())\n",
    "\n",
    "# Display the normalized data\n",
    "print(data_normalized.head())"
   ]
  },
  {
   "cell_type": "markdown",
   "metadata": {
    "colab_type": "text",
    "id": "IQf9B9Dcaekd"
   },
   "source": [
    "+ **Reduce dimensionality**. High dimensionality can be a problem for some machine learning methods.  There are two ways to reduce the number of input features.  One is about $removing$ $irrelevant$ input variables, another one is about $removing$ $redundant$ input variables.\n",
    "+ **Add derived features**. In some cases, we may need to compute additional attributes from existing attributes (f.e. converting a geo-location to a zip code, or converting the age to an age group).\n",
    "+ **Discretize numeric value into categories**. Discretize data is about cutting a continuous value into ranges and assigning the numeric with the corresponding bucket of the range it falls on.  For numeric attribute, a common way to generalize it is to discretize it into ranges, which can be either constant width (variable height/frequency) or variable width (constant height).\n",
    "+ **Binarize categorical attributes**. Certain machine learning models only take binary input (or numeric input).  In this case, we need to convert categorical attribute into multiple binary attributes, while each binary attribute corresponds to a particular value of the category. "
   ]
  },
  {
   "cell_type": "code",
   "execution_count": 18,
   "metadata": {},
   "outputs": [
    {
     "name": "stdout",
     "output_type": "stream",
     "text": [
      "        PC1       PC2\n",
      "0  0.007287 -0.243531\n",
      "1 -0.270714 -0.072809\n",
      "2 -0.139056  0.009809\n",
      "3 -0.200344  0.017669\n",
      "4 -0.258408  0.009521\n"
     ]
    }
   ],
   "source": [
    "from sklearn.decomposition import PCA\n",
    "\n",
    "pca = PCA(n_components=2)  # You can specify the number of components\n",
    "data_reduced = pca.fit_transform(data_normalized)\n",
    "\n",
    "# Create a DataFrame with reduced dimensions\n",
    "data_reduced_df = pd.DataFrame(data_reduced, columns=['PC1', 'PC2'])\n",
    "\n",
    "# Display the reduced data\n",
    "print(data_reduced_df.head())"
   ]
  },
  {
   "cell_type": "code",
   "execution_count": 20,
   "metadata": {},
   "outputs": [
    {
     "ename": "KeyError",
     "evalue": "'geo_location'",
     "output_type": "error",
     "traceback": [
      "\u001b[1;31m---------------------------------------------------------------------------\u001b[0m",
      "\u001b[1;31mKeyError\u001b[0m                                  Traceback (most recent call last)",
      "File \u001b[1;32mc:\\Users\\Hamza\\anaconda3\\lib\\site-packages\\pandas\\core\\indexes\\base.py:3621\u001b[0m, in \u001b[0;36mIndex.get_loc\u001b[1;34m(self, key, method, tolerance)\u001b[0m\n\u001b[0;32m   3620\u001b[0m \u001b[38;5;28;01mtry\u001b[39;00m:\n\u001b[1;32m-> 3621\u001b[0m     \u001b[38;5;28;01mreturn\u001b[39;00m \u001b[38;5;28;43mself\u001b[39;49m\u001b[38;5;241;43m.\u001b[39;49m\u001b[43m_engine\u001b[49m\u001b[38;5;241;43m.\u001b[39;49m\u001b[43mget_loc\u001b[49m\u001b[43m(\u001b[49m\u001b[43mcasted_key\u001b[49m\u001b[43m)\u001b[49m\n\u001b[0;32m   3622\u001b[0m \u001b[38;5;28;01mexcept\u001b[39;00m \u001b[38;5;167;01mKeyError\u001b[39;00m \u001b[38;5;28;01mas\u001b[39;00m err:\n",
      "File \u001b[1;32mc:\\Users\\Hamza\\anaconda3\\lib\\site-packages\\pandas\\_libs\\index.pyx:136\u001b[0m, in \u001b[0;36mpandas._libs.index.IndexEngine.get_loc\u001b[1;34m()\u001b[0m\n",
      "File \u001b[1;32mc:\\Users\\Hamza\\anaconda3\\lib\\site-packages\\pandas\\_libs\\index.pyx:163\u001b[0m, in \u001b[0;36mpandas._libs.index.IndexEngine.get_loc\u001b[1;34m()\u001b[0m\n",
      "File \u001b[1;32mpandas\\_libs\\hashtable_class_helper.pxi:5198\u001b[0m, in \u001b[0;36mpandas._libs.hashtable.PyObjectHashTable.get_item\u001b[1;34m()\u001b[0m\n",
      "File \u001b[1;32mpandas\\_libs\\hashtable_class_helper.pxi:5206\u001b[0m, in \u001b[0;36mpandas._libs.hashtable.PyObjectHashTable.get_item\u001b[1;34m()\u001b[0m\n",
      "\u001b[1;31mKeyError\u001b[0m: 'geo_location'",
      "\nThe above exception was the direct cause of the following exception:\n",
      "\u001b[1;31mKeyError\u001b[0m                                  Traceback (most recent call last)",
      "Cell \u001b[1;32mIn[20], line 1\u001b[0m\n\u001b[1;32m----> 1\u001b[0m data[\u001b[38;5;124m'\u001b[39m\u001b[38;5;124mzip_code\u001b[39m\u001b[38;5;124m'\u001b[39m] \u001b[38;5;241m=\u001b[39m \u001b[43mdata\u001b[49m\u001b[43m[\u001b[49m\u001b[38;5;124;43m'\u001b[39;49m\u001b[38;5;124;43mgeo_location\u001b[39;49m\u001b[38;5;124;43m'\u001b[39;49m\u001b[43m]\u001b[49m\u001b[38;5;241m.\u001b[39mapply(\u001b[38;5;28;01mlambda\u001b[39;00m x: get_zip_code(x))  \u001b[38;5;66;03m# Replace 'get_zip_code' with your function\u001b[39;00m\n\u001b[0;32m      3\u001b[0m \u001b[38;5;28;01mdef\u001b[39;00m \u001b[38;5;21mget_age_group\u001b[39m(age):\n\u001b[0;32m      4\u001b[0m     \u001b[38;5;28;01mif\u001b[39;00m age \u001b[38;5;241m<\u001b[39m \u001b[38;5;241m18\u001b[39m:\n",
      "File \u001b[1;32mc:\\Users\\Hamza\\anaconda3\\lib\\site-packages\\pandas\\core\\frame.py:3505\u001b[0m, in \u001b[0;36mDataFrame.__getitem__\u001b[1;34m(self, key)\u001b[0m\n\u001b[0;32m   3503\u001b[0m \u001b[38;5;28;01mif\u001b[39;00m \u001b[38;5;28mself\u001b[39m\u001b[38;5;241m.\u001b[39mcolumns\u001b[38;5;241m.\u001b[39mnlevels \u001b[38;5;241m>\u001b[39m \u001b[38;5;241m1\u001b[39m:\n\u001b[0;32m   3504\u001b[0m     \u001b[38;5;28;01mreturn\u001b[39;00m \u001b[38;5;28mself\u001b[39m\u001b[38;5;241m.\u001b[39m_getitem_multilevel(key)\n\u001b[1;32m-> 3505\u001b[0m indexer \u001b[38;5;241m=\u001b[39m \u001b[38;5;28;43mself\u001b[39;49m\u001b[38;5;241;43m.\u001b[39;49m\u001b[43mcolumns\u001b[49m\u001b[38;5;241;43m.\u001b[39;49m\u001b[43mget_loc\u001b[49m\u001b[43m(\u001b[49m\u001b[43mkey\u001b[49m\u001b[43m)\u001b[49m\n\u001b[0;32m   3506\u001b[0m \u001b[38;5;28;01mif\u001b[39;00m is_integer(indexer):\n\u001b[0;32m   3507\u001b[0m     indexer \u001b[38;5;241m=\u001b[39m [indexer]\n",
      "File \u001b[1;32mc:\\Users\\Hamza\\anaconda3\\lib\\site-packages\\pandas\\core\\indexes\\base.py:3623\u001b[0m, in \u001b[0;36mIndex.get_loc\u001b[1;34m(self, key, method, tolerance)\u001b[0m\n\u001b[0;32m   3621\u001b[0m     \u001b[38;5;28;01mreturn\u001b[39;00m \u001b[38;5;28mself\u001b[39m\u001b[38;5;241m.\u001b[39m_engine\u001b[38;5;241m.\u001b[39mget_loc(casted_key)\n\u001b[0;32m   3622\u001b[0m \u001b[38;5;28;01mexcept\u001b[39;00m \u001b[38;5;167;01mKeyError\u001b[39;00m \u001b[38;5;28;01mas\u001b[39;00m err:\n\u001b[1;32m-> 3623\u001b[0m     \u001b[38;5;28;01mraise\u001b[39;00m \u001b[38;5;167;01mKeyError\u001b[39;00m(key) \u001b[38;5;28;01mfrom\u001b[39;00m \u001b[38;5;21;01merr\u001b[39;00m\n\u001b[0;32m   3624\u001b[0m \u001b[38;5;28;01mexcept\u001b[39;00m \u001b[38;5;167;01mTypeError\u001b[39;00m:\n\u001b[0;32m   3625\u001b[0m     \u001b[38;5;66;03m# If we have a listlike key, _check_indexing_error will raise\u001b[39;00m\n\u001b[0;32m   3626\u001b[0m     \u001b[38;5;66;03m#  InvalidIndexError. Otherwise we fall through and re-raise\u001b[39;00m\n\u001b[0;32m   3627\u001b[0m     \u001b[38;5;66;03m#  the TypeError.\u001b[39;00m\n\u001b[0;32m   3628\u001b[0m     \u001b[38;5;28mself\u001b[39m\u001b[38;5;241m.\u001b[39m_check_indexing_error(key)\n",
      "\u001b[1;31mKeyError\u001b[0m: 'geo_location'"
     ]
    }
   ],
   "source": [
    "data['zip_code'] = data['geo_location'].apply(lambda x: get_zip_code(x))  # Replace 'get_zip_code' with your function\n",
    "\n",
    "def get_age_group(age):\n",
    "    if age < 18:\n",
    "        return 'Under 18'\n",
    "    elif age < 30:\n",
    "        return '18-29'\n",
    "    elif age < 40:\n",
    "        return '30-39'\n",
    "    elif age < 50:\n",
    "        return '40-49'\n",
    "    else:\n",
    "        return '50 and above'\n",
    "\n",
    "data['age_group'] = data['age'].apply(get_age_group)\n",
    "\n",
    "# Display the DataFrame with derived features\n",
    "print(data.head())"
   ]
  },
  {
   "cell_type": "markdown",
   "metadata": {
    "colab_type": "text",
    "id": "Fu798O5Gaeke"
   },
   "source": [
    "+ **Select, combine, aggregate data**. Designing the form of training data is the most important part of the whole predictive modeling exercise because the accuracy largely depends on whether the input features are structured in an appropriate form that provide strong signals to the learning algorithm. Rather than using the raw data as it is, it is quite common that multiple pieces of raw data need to be combined together, or aggregating multiple raw data records along some dimensions."
   ]
  },
  {
   "cell_type": "markdown",
   "metadata": {
    "colab_type": "text",
    "id": "C0uXEJiiaekf"
   },
   "source": [
    "## 2 Exploratory Data Analysis."
   ]
  },
  {
   "cell_type": "markdown",
   "metadata": {
    "colab_type": "text",
    "id": "SQlTI0LJaekg"
   },
   "source": [
    "### 2.1 Summarizing the data: \n",
    "#### 2.1.1 Sample Mean \n",
    "\n",
    "If you have a sample of $n$ values, $x_i$, the **sample mean** is the sum of the values divided by the number of values:\n",
    "\n",
    "$$ \\mu = \\frac{1}{n} \\sum_i x_i$$\n",
    "\n",
    "The **mean** is the most basic and important summary statistic. It describes the central tendency of a sample. "
   ]
  },
  {
   "cell_type": "markdown",
   "metadata": {
    "colab_type": "text",
    "id": "NwByG6SCaekh"
   },
   "source": [
    "There is a small difference!"
   ]
  },
  {
   "cell_type": "code",
   "execution_count": 340,
   "metadata": {
    "colab": {
     "base_uri": "https://localhost:8080/",
     "height": 50
    },
    "colab_type": "code",
    "executionInfo": {
     "elapsed": 1133,
     "status": "ok",
     "timestamp": 1570624608078,
     "user": {
      "displayName": "Dr. Mehdi Hassan",
      "photoUrl": "",
      "userId": "14874357748619183570"
     },
     "user_tz": -300
    },
    "id": "X5olIHaMaeki",
    "outputId": "7232ad96-b618-464b-8387-b000570dd0a3"
   },
   "outputs": [
    {
     "name": "stdout",
     "output_type": "stream",
     "text": [
      "The average age of men is:  39.49439509954058 .\n",
      "The average age of women is:  36.92798913043478 .\n"
     ]
    }
   ],
   "source": [
    "print('The average age of men is: ', ml['age'].mean(), '.')\n",
    "print('The average age of women is: ', fm['age'].mean(), '.')"
   ]
  },
  {
   "cell_type": "markdown",
   "metadata": {
    "colab_type": "text",
    "id": "9GP6-KqAaekk"
   },
   "source": [
    "This difference in sample means can be considered a first evidence of our hypothesis!\n",
    "\n",
    "\n",
    "**Comment: ** *Later, we will work with both concepts: the population mean and the sample mean. Do not confuse them! Remember, the first one is the mean of samples taken from the population and the second one is the mean of the whole population.*"
   ]
  },
  {
   "cell_type": "code",
   "execution_count": 341,
   "metadata": {
    "colab": {
     "base_uri": "https://localhost:8080/",
     "height": 50
    },
    "colab_type": "code",
    "executionInfo": {
     "elapsed": 1291,
     "status": "ok",
     "timestamp": 1570624738763,
     "user": {
      "displayName": "Dr. Mehdi Hassan",
      "photoUrl": "",
      "userId": "14874357748619183570"
     },
     "user_tz": -300
    },
    "id": "ynKhw8Lyaekm",
    "outputId": "4f6cde33-d5ab-429c-ff73-37dfd0616e6c"
   },
   "outputs": [
    {
     "name": "stdout",
     "output_type": "stream",
     "text": [
      "The average age of high-income men is:  44.64186327888687 .\n",
      "The average age of high-income women is:  42.219332956472584 .\n"
     ]
    }
   ],
   "source": [
    "print('The average age of high-income men is: ', ml1['age'].mean(), '.') \n",
    "print('The average age of high-income women is: ', fm1['age'].mean(), '.')"
   ]
  },
  {
   "cell_type": "markdown",
   "metadata": {
    "colab_type": "text",
    "id": "cqGtf1CFaekt"
   },
   "source": [
    "#### 2.1.2 Sample Variance\n",
    "\n",
    "Usually, mean is not a sufficient descriptor of the data, we can do a little better with two numbers: mean and **variance**:\n",
    "\n",
    "$$ \\sigma^2 = \\frac{1}{n} \\sum_i (x_i - \\mu)^2 $$\n",
    "\n",
    "**Variance** $\\sigma^2$ describes the *spread* of data. The term $(x_i - \\mu)$ is called the *deviation from the mean*, so variance is the mean squared deviation.\n",
    "\n",
    "The square root of variance, $\\sigma$, is called the **standard deviation**. We define standard deviation because variance is hard to interpret (in the case the units are grams, the variance is in grams squared). Let's get the basic statistics for our example data:\n"
   ]
  },
  {
   "cell_type": "code",
   "execution_count": 342,
   "metadata": {
    "colab": {
     "base_uri": "https://localhost:8080/",
     "height": 70
    },
    "colab_type": "code",
    "executionInfo": {
     "elapsed": 1146,
     "status": "ok",
     "timestamp": 1570624779762,
     "user": {
      "displayName": "Dr. Mehdi Hassan",
      "photoUrl": "",
      "userId": "14874357748619183570"
     },
     "user_tz": -300
    },
    "id": "oWsUy778aekw",
    "outputId": "aa25857a-6c9a-4fab-d0c7-957cbd8dde6d",
    "scrolled": false
   },
   "outputs": [
    {
     "name": "stdout",
     "output_type": "stream",
     "text": [
      "Statistics of age for men: mean: 39.49439509954058 var: 179.90454452826393 std: 13.412849977848255\n",
      "Statistics of age for women: mean: 36.92798913043478 var: 199.866718258666 std: 14.13742261724767\n"
     ]
    }
   ],
   "source": [
    "ml_mu = ml['age'].mean()\n",
    "fm_mu = fm['age'].mean()\n",
    "ml_var = ml['age'].var()\n",
    "fm_var = fm['age'].var()\n",
    "ml_std = ml['age'].std()\n",
    "fm_std = fm['age'].std()\n",
    "print('Statistics of age for men: mean:', ml_mu, 'var:', ml_var, 'std:', ml_std)\n",
    "print('Statistics of age for women: mean:', fm_mu, 'var:', fm_var, 'std:', fm_std)"
   ]
  },
  {
   "cell_type": "code",
   "execution_count": 343,
   "metadata": {
    "colab": {
     "base_uri": "https://localhost:8080/",
     "height": 70
    },
    "colab_type": "code",
    "executionInfo": {
     "elapsed": 1156,
     "status": "ok",
     "timestamp": 1570624839323,
     "user": {
      "displayName": "Dr. Mehdi Hassan",
      "photoUrl": "",
      "userId": "14874357748619183570"
     },
     "user_tz": -300
    },
    "id": "fdJxPkn0aek3",
    "outputId": "f26739bc-be17-4687-892e-9d6710c4e0d6"
   },
   "outputs": [
    {
     "name": "stdout",
     "output_type": "stream",
     "text": [
      "Statistics of hours per week for men: mu: 42.41684532924962 var: 146.89542512998221 std: 12.120042290767067\n",
      "Statistics  of hours per week for women: mu: 36.40069169960474 var: 142.77538831776135 std: 11.948865566143146\n"
     ]
    }
   ],
   "source": [
    "ml_mu_hr = ml['hours-per-week'].mean()\n",
    "fm_mu_hr = fm['hours-per-week'].mean()\n",
    "ml_var_hr = ml['hours-per-week'].var()\n",
    "fm_var_hr = fm['hours-per-week'].var()\n",
    "ml_std_hr = ml['hours-per-week'].std()\n",
    "fm_std_hr = fm['hours-per-week'].std()\n",
    "print('Statistics of hours per week for men: mu:', ml_mu_hr, 'var:', ml_var_hr, 'std:', ml_std_hr)\n",
    "print('Statistics  of hours per week for women: mu:', fm_mu_hr, 'var:', fm_var_hr, 'std:', fm_std_hr)"
   ]
  },
  {
   "cell_type": "code",
   "execution_count": 344,
   "metadata": {
    "colab": {
     "base_uri": "https://localhost:8080/",
     "height": 34
    },
    "colab_type": "code",
    "executionInfo": {
     "elapsed": 1600,
     "status": "ok",
     "timestamp": 1570626558574,
     "user": {
      "displayName": "Dr. Mehdi Hassan",
      "photoUrl": "",
      "userId": "14874357748619183570"
     },
     "user_tz": -300
    },
    "id": "HKS04xMZozmu",
    "outputId": "d4da8c24-a4b2-4b1e-edd5-9f1a01ce9da1"
   },
   "outputs": [
    {
     "data": {
      "text/plain": [
       "(24421, 15)"
      ]
     },
     "execution_count": 344,
     "metadata": {},
     "output_type": "execute_result"
    }
   ],
   "source": [
    "data.shape"
   ]
  },
  {
   "cell_type": "code",
   "execution_count": 345,
   "metadata": {},
   "outputs": [
    {
     "data": {
      "text/html": [
       "<div>\n",
       "<style scoped>\n",
       "    .dataframe tbody tr th:only-of-type {\n",
       "        vertical-align: middle;\n",
       "    }\n",
       "\n",
       "    .dataframe tbody tr th {\n",
       "        vertical-align: top;\n",
       "    }\n",
       "\n",
       "    .dataframe thead th {\n",
       "        text-align: right;\n",
       "    }\n",
       "</style>\n",
       "<table border=\"1\" class=\"dataframe\">\n",
       "  <thead>\n",
       "    <tr style=\"text-align: right;\">\n",
       "      <th></th>\n",
       "      <th>age</th>\n",
       "      <th>workclass</th>\n",
       "      <th>fnlwgt</th>\n",
       "      <th>education</th>\n",
       "      <th>educational-num</th>\n",
       "      <th>marital-status</th>\n",
       "      <th>occupation</th>\n",
       "      <th>relationship</th>\n",
       "      <th>race</th>\n",
       "      <th>gender</th>\n",
       "      <th>capital-gain</th>\n",
       "      <th>capital-loss</th>\n",
       "      <th>hours-per-week</th>\n",
       "      <th>native-country</th>\n",
       "      <th>income</th>\n",
       "    </tr>\n",
       "  </thead>\n",
       "  <tbody>\n",
       "    <tr>\n",
       "      <th>40269</th>\n",
       "      <td>33</td>\n",
       "      <td>Private</td>\n",
       "      <td>296538</td>\n",
       "      <td>HS-grad</td>\n",
       "      <td>9</td>\n",
       "      <td>Married-civ-spouse</td>\n",
       "      <td>Sales</td>\n",
       "      <td>Husband</td>\n",
       "      <td>White</td>\n",
       "      <td>Male</td>\n",
       "      <td>0</td>\n",
       "      <td>0</td>\n",
       "      <td>45</td>\n",
       "      <td>United-States</td>\n",
       "      <td>&gt;50K</td>\n",
       "    </tr>\n",
       "    <tr>\n",
       "      <th>41782</th>\n",
       "      <td>38</td>\n",
       "      <td>State-gov</td>\n",
       "      <td>321943</td>\n",
       "      <td>Doctorate</td>\n",
       "      <td>16</td>\n",
       "      <td>Married-civ-spouse</td>\n",
       "      <td>Prof-specialty</td>\n",
       "      <td>Husband</td>\n",
       "      <td>White</td>\n",
       "      <td>Male</td>\n",
       "      <td>0</td>\n",
       "      <td>0</td>\n",
       "      <td>40</td>\n",
       "      <td>United-States</td>\n",
       "      <td>&gt;50K</td>\n",
       "    </tr>\n",
       "    <tr>\n",
       "      <th>1556</th>\n",
       "      <td>33</td>\n",
       "      <td>State-gov</td>\n",
       "      <td>150688</td>\n",
       "      <td>Doctorate</td>\n",
       "      <td>16</td>\n",
       "      <td>Married-civ-spouse</td>\n",
       "      <td>Prof-specialty</td>\n",
       "      <td>Husband</td>\n",
       "      <td>Asian-Pac-Islander</td>\n",
       "      <td>Male</td>\n",
       "      <td>0</td>\n",
       "      <td>0</td>\n",
       "      <td>50</td>\n",
       "      <td>India</td>\n",
       "      <td>&gt;50K</td>\n",
       "    </tr>\n",
       "    <tr>\n",
       "      <th>13930</th>\n",
       "      <td>35</td>\n",
       "      <td>Private</td>\n",
       "      <td>211494</td>\n",
       "      <td>Bachelors</td>\n",
       "      <td>13</td>\n",
       "      <td>Never-married</td>\n",
       "      <td>Prof-specialty</td>\n",
       "      <td>Not-in-family</td>\n",
       "      <td>White</td>\n",
       "      <td>Male</td>\n",
       "      <td>8614</td>\n",
       "      <td>0</td>\n",
       "      <td>40</td>\n",
       "      <td>NaN</td>\n",
       "      <td>&gt;50K</td>\n",
       "    </tr>\n",
       "    <tr>\n",
       "      <th>33612</th>\n",
       "      <td>39</td>\n",
       "      <td>Private</td>\n",
       "      <td>184801</td>\n",
       "      <td>Bachelors</td>\n",
       "      <td>13</td>\n",
       "      <td>Married-civ-spouse</td>\n",
       "      <td>Prof-specialty</td>\n",
       "      <td>Husband</td>\n",
       "      <td>White</td>\n",
       "      <td>Male</td>\n",
       "      <td>0</td>\n",
       "      <td>0</td>\n",
       "      <td>40</td>\n",
       "      <td>United-States</td>\n",
       "      <td>&gt;50K</td>\n",
       "    </tr>\n",
       "  </tbody>\n",
       "</table>\n",
       "</div>"
      ],
      "text/plain": [
       "       age  workclass  fnlwgt  education  educational-num      marital-status  \\\n",
       "40269   33    Private  296538    HS-grad                9  Married-civ-spouse   \n",
       "41782   38  State-gov  321943  Doctorate               16  Married-civ-spouse   \n",
       "1556    33  State-gov  150688  Doctorate               16  Married-civ-spouse   \n",
       "13930   35    Private  211494  Bachelors               13       Never-married   \n",
       "33612   39    Private  184801  Bachelors               13  Married-civ-spouse   \n",
       "\n",
       "           occupation   relationship                race gender  capital-gain  \\\n",
       "40269           Sales        Husband               White   Male             0   \n",
       "41782  Prof-specialty        Husband               White   Male             0   \n",
       "1556   Prof-specialty        Husband  Asian-Pac-Islander   Male             0   \n",
       "13930  Prof-specialty  Not-in-family               White   Male          8614   \n",
       "33612  Prof-specialty        Husband               White   Male             0   \n",
       "\n",
       "       capital-loss  hours-per-week native-country income  \n",
       "40269             0              45  United-States   >50K  \n",
       "41782             0              40  United-States   >50K  \n",
       "1556              0              50          India   >50K  \n",
       "13930             0              40            NaN   >50K  \n",
       "33612             0              40  United-States   >50K  "
      ]
     },
     "execution_count": 345,
     "metadata": {},
     "output_type": "execute_result"
    }
   ],
   "source": [
    "filtered_data = data.loc[ ((data.age>30) & (data.age<40))  &  (data.income == '>50K')  &  (data.gender=='Male') ,:]    \n",
    "filtered_data.head()"
   ]
  },
  {
   "cell_type": "code",
   "execution_count": 346,
   "metadata": {},
   "outputs": [
    {
     "name": "stdout",
     "output_type": "stream",
     "text": [
      "The mean of filtered data is:  age                    35.394303\n",
      "fnlwgt             196808.092204\n",
      "educational-num        11.652924\n",
      "capital-gain         3098.064468\n",
      "capital-loss          184.457271\n",
      "hours-per-week         47.793853\n",
      "dtype: float64\n",
      "The variance of filtered data is:  age                6.351535e+00\n",
      "fnlwgt             1.251538e+10\n",
      "educational-num    5.143514e+00\n",
      "capital-gain       1.419355e+08\n",
      "capital-loss       3.298456e+05\n",
      "hours-per-week     9.799273e+01\n",
      "dtype: float64\n",
      "The std of filtered data is:  age                     2.520225\n",
      "fnlwgt             111872.138631\n",
      "educational-num         2.267932\n",
      "capital-gain        11913.666816\n",
      "capital-loss          574.321865\n",
      "hours-per-week          9.899128\n",
      "dtype: float64\n",
      "The dimensions of the filtered data is:  (1334, 15)\n"
     ]
    },
    {
     "name": "stderr",
     "output_type": "stream",
     "text": [
      "C:\\Users\\Hamza\\AppData\\Local\\Temp\\ipykernel_16004\\2572213570.py:1: FutureWarning: Dropping of nuisance columns in DataFrame reductions (with 'numeric_only=None') is deprecated; in a future version this will raise TypeError.  Select only valid columns before calling the reduction.\n",
      "  print(\"The mean of filtered data is: \",filtered_data.mean())\n",
      "C:\\Users\\Hamza\\AppData\\Local\\Temp\\ipykernel_16004\\2572213570.py:2: FutureWarning: Dropping of nuisance columns in DataFrame reductions (with 'numeric_only=None') is deprecated; in a future version this will raise TypeError.  Select only valid columns before calling the reduction.\n",
      "  print(\"The variance of filtered data is: \",filtered_data.var())\n",
      "C:\\Users\\Hamza\\AppData\\Local\\Temp\\ipykernel_16004\\2572213570.py:3: FutureWarning: Dropping of nuisance columns in DataFrame reductions (with 'numeric_only=None') is deprecated; in a future version this will raise TypeError.  Select only valid columns before calling the reduction.\n",
      "  print(\"The std of filtered data is: \",filtered_data.std())\n"
     ]
    }
   ],
   "source": [
    "print(\"The mean of filtered data is: \",filtered_data.mean())\n",
    "print(\"The variance of filtered data is: \",filtered_data.var())\n",
    "print(\"The std of filtered data is: \",filtered_data.std())\n",
    "print(\"The dimensions of the filtered data is: \",filtered_data.shape)"
   ]
  },
  {
   "cell_type": "markdown",
   "metadata": {
    "colab_type": "text",
    "id": "tSvw53yyaek7"
   },
   "source": [
    "#### 2.1.3 Sample Median\n",
    "\n",
    "The statistical median is an order statistic that gives the *middle* value of a sample. It is a value more robust to ouliers."
   ]
  },
  {
   "cell_type": "code",
   "execution_count": 347,
   "metadata": {
    "colab": {
     "base_uri": "https://localhost:8080/",
     "height": 50
    },
    "colab_type": "code",
    "executionInfo": {
     "elapsed": 1369,
     "status": "ok",
     "timestamp": 1570626904396,
     "user": {
      "displayName": "Dr. Mehdi Hassan",
      "photoUrl": "",
      "userId": "14874357748619183570"
     },
     "user_tz": -300
    },
    "id": "C76LznAPaek7",
    "outputId": "caa6f972-9e92-47b4-db13-07e3656a246a"
   },
   "outputs": [
    {
     "name": "stdout",
     "output_type": "stream",
     "text": [
      "Median age per men and women:  38.0 35.0\n",
      "Median age per men and women with high-income:  44.0 41.0\n"
     ]
    }
   ],
   "source": [
    "ml_median= ml['age'].median()\n",
    "fm_median= fm['age'].median()\n",
    "print(\"Median age per men and women: \", ml_median, fm_median)\n",
    "\n",
    "ml_median_age= ml1['age'].median()\n",
    "fm_median_age= fm1['age'].median()\n",
    "print(\"Median age per men and women with high-income: \", ml_median_age, fm_median_age)\n"
   ]
  },
  {
   "cell_type": "code",
   "execution_count": 348,
   "metadata": {
    "colab": {
     "base_uri": "https://localhost:8080/",
     "height": 34
    },
    "colab_type": "code",
    "executionInfo": {
     "elapsed": 992,
     "status": "ok",
     "timestamp": 1570626906248,
     "user": {
      "displayName": "Dr. Mehdi Hassan",
      "photoUrl": "",
      "userId": "14874357748619183570"
     },
     "user_tz": -300
    },
    "id": "VD9g80agaek-",
    "outputId": "a3d46eba-d66a-4487-ecb9-4abdf79a14e5"
   },
   "outputs": [
    {
     "name": "stdout",
     "output_type": "stream",
     "text": [
      "Median hours per week per men and women:  40.0 40.0\n"
     ]
    }
   ],
   "source": [
    "ml_median_hr= ml['hours-per-week'].median()\n",
    "fm_median_hr= fm['hours-per-week'].median()\n",
    "print(\"Median hours per week per men and women: \", ml_median_hr, fm_median_hr)"
   ]
  },
  {
   "cell_type": "markdown",
   "metadata": {
    "colab_type": "text",
    "id": "y71OiIqaaelC"
   },
   "source": [
    "#### 2.1.4 Summarizing the data: Quantiles & Percentiles\n",
    "\n",
    "Order the sample $\\{ x_i \\}$, then find $x_p$ so that it divides the data into two parts where:\n",
    "\n",
    "+ a fraction $p$ of the data values are less than or equal to $x_p$ and\n",
    "+ the remaining fraction $(1 − p)$ are greater than $x_p$.\n",
    "\n",
    "That value $x_p$ is the pth-quantile, or 100×pth percentile.\n",
    "\n",
    "**5-number summary**: $x_{min}, Q_1, Q_2, Q_3, x_{max}$, where $Q_1$ is the 25×pth percentile,\n",
    "$Q_2$ is the 50×pth percentile and $Q_3$ is the 75×pth percentile."
   ]
  },
  {
   "cell_type": "code",
   "execution_count": 349,
   "metadata": {},
   "outputs": [
    {
     "data": {
      "text/plain": [
       "0.25    29.0\n",
       "0.50    38.0\n",
       "0.75    48.0\n",
       "Name: age, dtype: float64"
      ]
     },
     "execution_count": 349,
     "metadata": {},
     "output_type": "execute_result"
    }
   ],
   "source": [
    "quanti= ml['age'].quantile([0.25, 0.50, 0.75])\n",
    "quanti"
   ]
  },
  {
   "cell_type": "markdown",
   "metadata": {
    "colab_type": "text",
    "id": "xo8J2yt0aelD"
   },
   "source": [
    "### 2.2 Histogram"
   ]
  },
  {
   "cell_type": "markdown",
   "metadata": {
    "colab_type": "text",
    "id": "zcmHs5viaelE"
   },
   "source": [
    "The most common representation of a distribution is a **histogram**, which is a graph that shows the frequency of each value. Let us visualize the histogram for the age of the male and female populations in our example: "
   ]
  },
  {
   "cell_type": "code",
   "execution_count": 350,
   "metadata": {},
   "outputs": [
    {
     "data": {
      "image/png": "[encoded data removed]",
      "text/plain": [
       "<Figure size 640x480 with 1 Axes>"
      ]
     },
     "metadata": {},
     "output_type": "display_data"
    }
   ],
   "source": [
    "import matplotlib.pyplot as plt\n",
    "ml_age=ml['age']\n",
    "ml_age.hist(histtype='stepfilled', bins=20)\n",
    "\n",
    "plt.xlabel('Age')\n",
    "plt.ylabel('Male samples')\n",
    "plt.show()"
   ]
  },
  {
   "cell_type": "code",
   "execution_count": 351,
   "metadata": {
    "colab": {
     "base_uri": "https://localhost:8080/",
     "height": 288
    },
    "colab_type": "code",
    "executionInfo": {
     "elapsed": 1339,
     "status": "ok",
     "timestamp": 1570627353110,
     "user": {
      "displayName": "Dr. Mehdi Hassan",
      "photoUrl": "",
      "userId": "14874357748619183570"
     },
     "user_tz": -300
    },
    "id": "fRNST5OqaelI",
    "outputId": "fcd7a8ac-86cb-4f42-df23-1920e217e23d"
   },
   "outputs": [
    {
     "data": {
      "image/png": "[encoded data removed]",
      "text/plain": [
       "<Figure size 640x480 with 1 Axes>"
      ]
     },
     "metadata": {},
     "output_type": "display_data"
    }
   ],
   "source": [
    "fm_age=fm['age']\n",
    "\n",
    "fm_age.hist(histtype='stepfilled', bins=10)\n",
    "plt.xlabel('Age',fontsize=15)\n",
    "plt.ylabel('Female samples',fontsize=15)\n",
    "plt.show()"
   ]
  },
  {
   "cell_type": "code",
   "execution_count": 352,
   "metadata": {
    "colab": {},
    "colab_type": "code",
    "id": "vD8GN8rpaelT"
   },
   "outputs": [],
   "source": [
    "import scipy.stats as stats"
   ]
  },
  {
   "cell_type": "markdown",
   "metadata": {
    "colab_type": "text",
    "id": "2AZ0ad7Laelt"
   },
   "source": [
    "## 2.4 Outliers\n",
    "\n",
    "**Ouliers** are data samples with a value that is far from the central tendency.\n",
    "\n",
    "We can find outliers by:\n",
    "\n",
    "+ Computing samples that are *far* from the median.\n",
    "+ Computing samples whose value *exceeds the mean* by 2 or 3 standard deviations.\n",
    "\n",
    "This expression will return a series of boolean values that you can then index the series by:"
   ]
  },
  {
   "cell_type": "code",
   "execution_count": 353,
   "metadata": {
    "colab": {},
    "colab_type": "code",
    "id": "Kx700_Hzaelu",
    "outputId": "7676a95b-04b1-4e09-e44c-11d28582988b"
   },
   "outputs": [
    {
     "data": {
      "text/plain": [
       "37.0"
      ]
     },
     "execution_count": 353,
     "metadata": {},
     "output_type": "execute_result"
    }
   ],
   "source": [
    "data['age'].median()"
   ]
  },
  {
   "cell_type": "markdown",
   "metadata": {
    "colab_type": "text",
    "id": "DivIBNbWaelx"
   },
   "source": [
    "Let's see how many outliers we can detect in our example:"
   ]
  },
  {
   "cell_type": "code",
   "execution_count": 354,
   "metadata": {
    "colab": {},
    "colab_type": "code",
    "id": "JMAA5X-0aely",
    "outputId": "9298a0a1-7e85-48f4-e241-15acbd011c1d"
   },
   "outputs": [
    {
     "data": {
      "text/html": [
       "<div>\n",
       "<style scoped>\n",
       "    .dataframe tbody tr th:only-of-type {\n",
       "        vertical-align: middle;\n",
       "    }\n",
       "\n",
       "    .dataframe tbody tr th {\n",
       "        vertical-align: top;\n",
       "    }\n",
       "\n",
       "    .dataframe thead th {\n",
       "        text-align: right;\n",
       "    }\n",
       "</style>\n",
       "<table border=\"1\" class=\"dataframe\">\n",
       "  <thead>\n",
       "    <tr style=\"text-align: right;\">\n",
       "      <th></th>\n",
       "      <th>age</th>\n",
       "      <th>workclass</th>\n",
       "      <th>fnlwgt</th>\n",
       "      <th>education</th>\n",
       "      <th>educational-num</th>\n",
       "      <th>marital-status</th>\n",
       "      <th>occupation</th>\n",
       "      <th>relationship</th>\n",
       "      <th>race</th>\n",
       "      <th>gender</th>\n",
       "      <th>capital-gain</th>\n",
       "      <th>capital-loss</th>\n",
       "      <th>hours-per-week</th>\n",
       "      <th>native-country</th>\n",
       "      <th>income</th>\n",
       "    </tr>\n",
       "  </thead>\n",
       "  <tbody>\n",
       "    <tr>\n",
       "      <th>10535</th>\n",
       "      <td>21</td>\n",
       "      <td>Private</td>\n",
       "      <td>186087</td>\n",
       "      <td>Bachelors</td>\n",
       "      <td>13</td>\n",
       "      <td>Never-married</td>\n",
       "      <td>Prof-specialty</td>\n",
       "      <td>Not-in-family</td>\n",
       "      <td>White</td>\n",
       "      <td>Male</td>\n",
       "      <td>0</td>\n",
       "      <td>0</td>\n",
       "      <td>40</td>\n",
       "      <td>United-States</td>\n",
       "      <td>&gt;50K</td>\n",
       "    </tr>\n",
       "    <tr>\n",
       "      <th>3163</th>\n",
       "      <td>21</td>\n",
       "      <td>Private</td>\n",
       "      <td>145964</td>\n",
       "      <td>Some-college</td>\n",
       "      <td>10</td>\n",
       "      <td>Married-civ-spouse</td>\n",
       "      <td>Craft-repair</td>\n",
       "      <td>Husband</td>\n",
       "      <td>White</td>\n",
       "      <td>Male</td>\n",
       "      <td>7298</td>\n",
       "      <td>0</td>\n",
       "      <td>60</td>\n",
       "      <td>United-States</td>\n",
       "      <td>&gt;50K</td>\n",
       "    </tr>\n",
       "    <tr>\n",
       "      <th>29128</th>\n",
       "      <td>21</td>\n",
       "      <td>Private</td>\n",
       "      <td>548303</td>\n",
       "      <td>HS-grad</td>\n",
       "      <td>9</td>\n",
       "      <td>Married-civ-spouse</td>\n",
       "      <td>Prof-specialty</td>\n",
       "      <td>Own-child</td>\n",
       "      <td>White</td>\n",
       "      <td>Male</td>\n",
       "      <td>0</td>\n",
       "      <td>0</td>\n",
       "      <td>40</td>\n",
       "      <td>Mexico</td>\n",
       "      <td>&gt;50K</td>\n",
       "    </tr>\n",
       "    <tr>\n",
       "      <th>39191</th>\n",
       "      <td>19</td>\n",
       "      <td>NaN</td>\n",
       "      <td>200790</td>\n",
       "      <td>12th</td>\n",
       "      <td>8</td>\n",
       "      <td>Married-civ-spouse</td>\n",
       "      <td>NaN</td>\n",
       "      <td>Other-relative</td>\n",
       "      <td>White</td>\n",
       "      <td>Female</td>\n",
       "      <td>15024</td>\n",
       "      <td>0</td>\n",
       "      <td>40</td>\n",
       "      <td>United-States</td>\n",
       "      <td>&gt;50K</td>\n",
       "    </tr>\n",
       "    <tr>\n",
       "      <th>24022</th>\n",
       "      <td>19</td>\n",
       "      <td>Private</td>\n",
       "      <td>323605</td>\n",
       "      <td>7th-8th</td>\n",
       "      <td>4</td>\n",
       "      <td>Never-married</td>\n",
       "      <td>Other-service</td>\n",
       "      <td>Not-in-family</td>\n",
       "      <td>White</td>\n",
       "      <td>Male</td>\n",
       "      <td>0</td>\n",
       "      <td>0</td>\n",
       "      <td>60</td>\n",
       "      <td>United-States</td>\n",
       "      <td>&gt;50K</td>\n",
       "    </tr>\n",
       "  </tbody>\n",
       "</table>\n",
       "</div>"
      ],
      "text/plain": [
       "       age workclass  fnlwgt     education  educational-num  \\\n",
       "10535   21   Private  186087     Bachelors               13   \n",
       "3163    21   Private  145964  Some-college               10   \n",
       "29128   21   Private  548303       HS-grad                9   \n",
       "39191   19       NaN  200790          12th                8   \n",
       "24022   19   Private  323605       7th-8th                4   \n",
       "\n",
       "           marital-status      occupation    relationship   race  gender  \\\n",
       "10535       Never-married  Prof-specialty   Not-in-family  White    Male   \n",
       "3163   Married-civ-spouse    Craft-repair         Husband  White    Male   \n",
       "29128  Married-civ-spouse  Prof-specialty       Own-child  White    Male   \n",
       "39191  Married-civ-spouse             NaN  Other-relative  White  Female   \n",
       "24022       Never-married   Other-service   Not-in-family  White    Male   \n",
       "\n",
       "       capital-gain  capital-loss  hours-per-week native-country income  \n",
       "10535             0             0              40  United-States   >50K  \n",
       "3163           7298             0              60  United-States   >50K  \n",
       "29128             0             0              40         Mexico   >50K  \n",
       "39191         15024             0              40  United-States   >50K  \n",
       "24022             0             0              60  United-States   >50K  "
      ]
     },
     "execution_count": 354,
     "metadata": {},
     "output_type": "execute_result"
    }
   ],
   "source": [
    "filter_datai= data[(data.income == '>50K') & (data['age'] < data['age'].median() - 15)]\n",
    "filter_datai"
   ]
  },
  {
   "cell_type": "code",
   "execution_count": 355,
   "metadata": {},
   "outputs": [
    {
     "data": {
      "text/plain": [
       "5"
      ]
     },
     "execution_count": 355,
     "metadata": {},
     "output_type": "execute_result"
    }
   ],
   "source": [
    "len(filter_datai)"
   ]
  },
  {
   "cell_type": "code",
   "execution_count": 356,
   "metadata": {
    "colab": {},
    "colab_type": "code",
    "id": "4o9l6XLvael0",
    "outputId": "282436dc-752a-4f6a-f803-b10b3b33d92b"
   },
   "outputs": [
    {
     "data": {
      "text/plain": [
       "50"
      ]
     },
     "execution_count": 356,
     "metadata": {},
     "output_type": "execute_result"
    }
   ],
   "source": [
    "len(data[(data.income == '>50K') & (data['age'] > data['age'].median() + 35)])"
   ]
  },
  {
   "cell_type": "markdown",
   "metadata": {
    "colab_type": "text",
    "id": "rNNyRH5rael3"
   },
   "source": [
    "If we think that outliers correspond to errors, an option is to trim the data by discarting the highest and lowest values."
   ]
  },
  {
   "cell_type": "code",
   "execution_count": 357,
   "metadata": {
    "colab": {},
    "colab_type": "code",
    "id": "S0po5pDoael4",
    "outputId": "b417516f-fa36-4301-8a86-cc26d02cbea6"
   },
   "outputs": [
    {
     "data": {
      "text/plain": [
       "(24371, 15)"
      ]
     },
     "execution_count": 357,
     "metadata": {},
     "output_type": "execute_result"
    }
   ],
   "source": [
    "df2 = data.drop(data.index[(data.income=='>50K') & (data['age']>data['age'].median() + 35) & (data['age'] > data['age'].median() -15)])\n",
    "df2.shape"
   ]
  },
  {
   "cell_type": "code",
   "execution_count": 358,
   "metadata": {
    "colab": {},
    "colab_type": "code",
    "id": "gA3a5Vlwael9"
   },
   "outputs": [],
   "source": [
    "ml1_age=ml1['age']\n",
    "fm1_age=fm1['age']\n",
    "\n",
    "ml2_age = ml1_age.drop(ml1_age.index[(ml1_age > data['age'].median() + 35) & (ml1_age > data['age'].median() - 15)])\n",
    "fm2_age = fm1_age.drop(fm1_age.index[(fm1_age > data['age'].median() + 35) & (fm1_age > data['age'].median() - 15)])"
   ]
  },
  {
   "cell_type": "code",
   "execution_count": 359,
   "metadata": {
    "colab": {},
    "colab_type": "code",
    "id": "oqvC6V8wael_",
    "outputId": "114f1a87-1430-44c6-922d-0be9cea6e238"
   },
   "outputs": [
    {
     "name": "stdout",
     "output_type": "stream",
     "text": [
      "Men statistics: Mean: 44.33736901007224 Std: 10.062024196364517 Median: 44.0 Min: 19 Max: 72\n"
     ]
    }
   ],
   "source": [
    "mu2ml = ml2_age.mean()\n",
    "std2ml = ml2_age.std()\n",
    "md2ml = ml2_age.median()\n",
    "# Computing the mean, std, median, min and max for the high-income male population\n",
    "print(\"Men statistics: Mean:\", mu2ml, \"Std:\", std2ml, \"Median:\", md2ml, \"Min:\", ml2_age.min(), \"Max:\", ml2_age.max())"
   ]
  },
  {
   "cell_type": "code",
   "execution_count": 360,
   "metadata": {
    "colab": {},
    "colab_type": "code",
    "id": "zvs_QMZtaemD",
    "outputId": "cd870cf2-cd7f-4bf8-c044-23246c1fae19"
   },
   "outputs": [
    {
     "name": "stdout",
     "output_type": "stream",
     "text": [
      "Women statistics: Mean: 44.33736901007224 Std: 10.062024196364517 Median: 44.0 Min: 19 Max: 72\n"
     ]
    }
   ],
   "source": [
    "mu3ml = fm2_age.mean()\n",
    "std3ml = fm2_age.std()\n",
    "md3ml = fm2_age.median()\n",
    "# Computing the mean, std, median, min and max for the high-income female population\n",
    "print(\"Women statistics: Mean:\", mu2ml, \"Std:\", std2ml, \"Median:\", md2ml, \"Min:\", fm2_age.min(), \"Max:\", fm2_age.max())"
   ]
  },
  {
   "cell_type": "markdown",
   "metadata": {
    "colab_type": "text",
    "id": "2-acPef3aeoC"
   },
   "source": [
    "### 5. Main reference\n",
    "[1] *Think Stats: Probability and Statistics for Programmers*, by Allen B. Downey, published by O'Reilly Media.\n",
    "http://www.greenteapress.com/thinkstats/\n",
    "\n",
    "[2] Anscombe's quartet, https://en.wikipedia.org/wiki/Anscombe%27s_quartet"
   ]
  }
 ],
 "metadata": {
  "accelerator": "GPU",
  "anaconda-cloud": {},
  "colab": {
   "collapsed_sections": [
    "y71OiIqaaelC",
    "5E6RdPMzaelZ",
    "2AZ0ad7Laelt",
    "zVkzcLWIaemY",
    "HBE-rQiDaemj",
    "y0sQ21GRaenD",
    "PtXcYFRBaenD",
    "rT7ZfM8TaenE",
    "K7jjUYSGaenN",
    "Eb-JMvMnaenP",
    "IMkfsZ17aenQ",
    "eM5NbwyhaenR",
    "51Pi3dLtaenq",
    "OHoC6jACaenv",
    "zHo67DaLaenw",
    "y9rLMwK_aenx",
    "QxjXzgEBaen5",
    "T_lM-XHRaen8",
    "2-acPef3aeoC"
   ],
   "name": "ch03_Descriptive_Statistics.ipynb",
   "provenance": []
  },
  "kernelspec": {
   "display_name": "Python 3 (ipykernel)",
   "language": "python",
   "name": "python3"
  },
  "language_info": {
   "codemirror_mode": {
    "name": "ipython",
    "version": 3
   },
   "file_extension": ".py",
   "mimetype": "text/x-python",
   "name": "python",
   "nbconvert_exporter": "python",
   "pygments_lexer": "ipython3",
   "version": "3.9.18"
  }
 },
 "nbformat": 4,
 "nbformat_minor": 1
}
